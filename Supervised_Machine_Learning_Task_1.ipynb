{
  "nbformat": 4,
  "nbformat_minor": 0,
  "metadata": {
    "colab": {
      "name": "Supervised Machine Learning Task 1.ipynb",
      "provenance": [],
      "collapsed_sections": [],
      "authorship_tag": "ABX9TyPD1kjUvjap2JA/ffrqVGiQ",
      "include_colab_link": true
    },
    "kernelspec": {
      "name": "python3",
      "display_name": "Python 3"
    }
  },
  "cells": [
    {
      "cell_type": "markdown",
      "metadata": {
        "id": "view-in-github",
        "colab_type": "text"
      },
      "source": [
        "<a href=\"https://colab.research.google.com/github/AkritiGhosh/GRIP-Internship/blob/master/Supervised_Machine_Learning_Task_1.ipynb\" target=\"_parent\"><img src=\"https://colab.research.google.com/assets/colab-badge.svg\" alt=\"Open In Colab\"/></a>"
      ]
    },
    {
      "cell_type": "code",
      "metadata": {
        "id": "u63keXcZ4RMF",
        "colab_type": "code",
        "colab": {}
      },
      "source": [
        "import pandas as pd\n",
        "import numpy as np\n",
        "import matplotlib.pyplot as plt\n",
        "from math import sqrt\n",
        "from sklearn.model_selection import train_test_split \n",
        "from sklearn.linear_model import LinearRegression\n",
        "from sklearn import metrics"
      ],
      "execution_count": 45,
      "outputs": []
    },
    {
      "cell_type": "code",
      "metadata": {
        "id": "VKHlE9pw5PmA",
        "colab_type": "code",
        "colab": {
          "base_uri": "https://localhost:8080/",
          "height": 561
        },
        "outputId": "d98c9f1f-1a1e-4a92-b911-a31f38e85587"
      },
      "source": [
        "data_set = pd.read_csv('http://bit.ly/w-data')\n",
        "print(\"Size of training dataset: \", data_set.shape)\n",
        "print(\"Types of dataset: \", type(data_set))\n",
        "print(\"Types of values dataset: \", data_set.dtypes, sep='\\n')\n",
        "print(data_set)"
      ],
      "execution_count": 46,
      "outputs": [
        {
          "output_type": "stream",
          "text": [
            "Size of training dataset:  (25, 2)\n",
            "Types of dataset:  <class 'pandas.core.frame.DataFrame'>\n",
            "Types of values dataset: \n",
            "Hours     float64\n",
            "Scores      int64\n",
            "dtype: object\n",
            "    Hours  Scores\n",
            "0     2.5      21\n",
            "1     5.1      47\n",
            "2     3.2      27\n",
            "3     8.5      75\n",
            "4     3.5      30\n",
            "5     1.5      20\n",
            "6     9.2      88\n",
            "7     5.5      60\n",
            "8     8.3      81\n",
            "9     2.7      25\n",
            "10    7.7      85\n",
            "11    5.9      62\n",
            "12    4.5      41\n",
            "13    3.3      42\n",
            "14    1.1      17\n",
            "15    8.9      95\n",
            "16    2.5      30\n",
            "17    1.9      24\n",
            "18    6.1      67\n",
            "19    7.4      69\n",
            "20    2.7      30\n",
            "21    4.8      54\n",
            "22    3.8      35\n",
            "23    6.9      76\n",
            "24    7.8      86\n"
          ],
          "name": "stdout"
        }
      ]
    },
    {
      "cell_type": "code",
      "metadata": {
        "id": "ljO2paRm5u9Q",
        "colab_type": "code",
        "colab": {
          "base_uri": "https://localhost:8080/",
          "height": 51
        },
        "outputId": "171cfb1b-2e80-4157-9f24-17ec946a4a18"
      },
      "source": [
        "x = data_set.iloc[:,:1]\n",
        "y = data_set.iloc[:,-1]\n",
        "x_train, x_test, y_train, y_test = train_test_split(x, y, test_size=0.2, random_state=0)\n",
        "print(\"Training set size:\", x_train.shape, y_train.shape, sep=' ')\n",
        "print(\"Testing set size:\", x_test.shape, y_test.shape, sep=' ')"
      ],
      "execution_count": 47,
      "outputs": [
        {
          "output_type": "stream",
          "text": [
            "Training set size: (20, 1) (20,)\n",
            "Testing set size: (5, 1) (5,)\n"
          ],
          "name": "stdout"
        }
      ]
    },
    {
      "cell_type": "code",
      "metadata": {
        "id": "GXWV-0PE7D6h",
        "colab_type": "code",
        "colab": {}
      },
      "source": [
        "model = LinearRegression()\n",
        "model.fit(x_train, y_train)\n",
        "y_pred = model.predict(x_test)"
      ],
      "execution_count": 48,
      "outputs": []
    },
    {
      "cell_type": "code",
      "metadata": {
        "id": "UPk9cnHg7KcJ",
        "colab_type": "code",
        "colab": {
          "base_uri": "https://localhost:8080/",
          "height": 265
        },
        "outputId": "f81e9bd5-78b9-4b73-c171-a69ae5e1c244"
      },
      "source": [
        "plt.scatter(x, y,  color='blue')\n",
        "plt.plot(x_test, y_pred, color='red', linewidth=2)\n",
        "plt.show()"
      ],
      "execution_count": 49,
      "outputs": [
        {
          "output_type": "display_data",
          "data": {
            "image/png": "[encoded data removed]",
            "text/plain": [
              "<Figure size 432x288 with 1 Axes>"
            ]
          },
          "metadata": {
            "tags": [],
            "needs_background": "light"
          }
        }
      ]
    },
    {
      "cell_type": "code",
      "metadata": {
        "id": "JaFD-hJE8Kvb",
        "colab_type": "code",
        "colab": {
          "base_uri": "https://localhost:8080/",
          "height": 68
        },
        "outputId": "a0ee17f9-a261-405b-927c-b3e79e703ca6"
      },
      "source": [
        "print('Mean Absolute Error:', metrics.mean_absolute_error(y_test, y_pred))  \n",
        "print('Mean Squared Error:', metrics.mean_squared_error(y_test, y_pred))  \n",
        "print('Root Mean Squared Error:', sqrt(metrics.mean_squared_error(y_test, y_pred)))"
      ],
      "execution_count": 50,
      "outputs": [
        {
          "output_type": "stream",
          "text": [
            "Mean Absolute Error: 4.183859899002982\n",
            "Mean Squared Error: 21.598769307217456\n",
            "Root Mean Squared Error: 4.647447612100373\n"
          ],
          "name": "stdout"
        }
      ]
    },
    {
      "cell_type": "code",
      "metadata": {
        "id": "R7gE_pxE86J8",
        "colab_type": "code",
        "colab": {
          "base_uri": "https://localhost:8080/",
          "height": 51
        },
        "outputId": "054afa4e-7beb-44d2-b3f5-38b3a0045c0f"
      },
      "source": [
        "qu = 9.25\n",
        "ans = model.predict(np.array([qu]).reshape(1, 1))\n",
        "print(\"If a student study for \", qu ,\" hrs in a day, then they may get\\nScore : \", ans[0] )"
      ],
      "execution_count": 51,
      "outputs": [
        {
          "output_type": "stream",
          "text": [
            "If a student study for  9.25  hrs in a day, then they may get\n",
            "Score :  93.69173248737539\n"
          ],
          "name": "stdout"
        }
      ]
    },
    {
      "cell_type": "code",
      "metadata": {
        "id": "o8CjDmGb-OVG",
        "colab_type": "code",
        "colab": {}
      },
      "source": [
        ""
      ],
      "execution_count": 51,
      "outputs": []
    }
  ]
}